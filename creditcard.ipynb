{
 "cells": [
  {
   "cell_type": "code",
   "execution_count": null,
   "id": "c10e7c3f",
   "metadata": {},
   "outputs": [],
   "source": [
    "import numpy as np\n",
    "import pandas as pd\n",
    "import matplotlib.pyplot as plt \n",
    "from sklearn import tree\n",
    "from sklearn.tree import plot_tree\n",
    "from sklearn.linear_model import LinearRegression\n",
    "from sklearn.linear_model import LogisticRegression\n",
    "from sklearn.metrics import accuracy_score, confusion_matrix,classification_report\n",
    "from sklearn.tree import DecisionTreeClassifier\n",
    "from sklearn.preprocessing import StandardScaler, MinMaxScaler\n",
    "from sklearn.ensemble import RandomForestClassifier\n",
    "from sklearn.model_selection import GridSearchCV\n",
    "from sklearn.cluster import KMeans\n",
    "from sklearn.model_selection import train_test_split\n"
   ]
  },
  {
   "cell_type": "code",
   "execution_count": null,
   "id": "4c2f45f8",
   "metadata": {},
   "outputs": [],
   "source": [
    "df=pd.read_csv(\"creditcard.csv\")"
   ]
  },
  {
   "cell_type": "code",
   "execution_count": null,
   "id": "326ca7bf",
   "metadata": {},
   "outputs": [],
   "source": [
    "df"
   ]
  },
  {
   "cell_type": "code",
   "execution_count": null,
   "id": "55b82315",
   "metadata": {},
   "outputs": [],
   "source": [
    "#param_grid = {\n",
    "    #'max_depth': [10, 20, 30, None],\n",
    "    #'min_samples_split': [2, 5, 10],\n",
    "    #'min_samples_leaf': [1, 2, 4]\n",
    "#}\n",
    "#dtree_reg = DecisionTreeRegressor(random_state=42) # Initialize a decision tree regressor\n",
    "#grid_search = GridSearchCV(estimator=dtree_reg, param_grid=param_grid, \n",
    "                           #cv=5, n_jobs=-1, verbose=2, scoring='neg_mean_squared_error')\n",
    "#grid_search.fit(X_train, y_train)\n",
    "#best_dtree_reg = grid_search.best_estimator_ \n",
    "\n",
    "print()"
   ]
  },
  {
   "cell_type": "code",
   "execution_count": null,
   "id": "f5f77c10",
   "metadata": {},
   "outputs": [],
   "source": [
    "df['Class'].value_counts()"
   ]
  },
  {
   "cell_type": "code",
   "execution_count": null,
   "id": "8051aaa4",
   "metadata": {},
   "outputs": [],
   "source": [
    "X = df.drop('Class', axis = 1)\n",
    "y = df['Class']\n",
    "X_train, X_test, y_train, y_test = train_test_split(X, y, test_size=0.3, random_state=42)"
   ]
  },
  {
   "cell_type": "code",
   "execution_count": null,
   "id": "1488a1b5",
   "metadata": {},
   "outputs": [],
   "source": [
    "y_train.value_counts()"
   ]
  },
  {
   "cell_type": "code",
   "execution_count": null,
   "id": "410a8dc9",
   "metadata": {},
   "outputs": [],
   "source": [
    "y_test.value_counts()"
   ]
  },
  {
   "cell_type": "code",
   "execution_count": null,
   "id": "50c919c5",
   "metadata": {},
   "outputs": [],
   "source": [
    "\n",
    "scaler = StandardScaler()\n",
    "X_train_scaled = scaler.fit_transform(X_train)\n",
    "X_test_scaled = scaler.transform(X_test)"
   ]
  },
  {
   "cell_type": "code",
   "execution_count": null,
   "id": "a1f21d05",
   "metadata": {},
   "outputs": [],
   "source": [
    "m_LR = LogisticRegression()\n",
    "m_LR.fit(X_train_scaled, y_train)"
   ]
  },
  {
   "cell_type": "code",
   "execution_count": null,
   "id": "627d81e5",
   "metadata": {},
   "outputs": [],
   "source": [
    "y_pred = m_LR.predict(X_test_scaled)\n"
   ]
  },
  {
   "cell_type": "code",
   "execution_count": null,
   "id": "00b4a34c",
   "metadata": {},
   "outputs": [],
   "source": [
    "def printMetrics(y_pred, y) : \n",
    "\n",
    "    print('Accuracy is : ' + str(accuracy_score(y_pred, y)))\n",
    "\n",
    "    print('Classification Report')\n",
    "    print(classification_report(y_pred, y))\n",
    "    print()\n",
    "    print('Confusion Matrix')\n",
    "    print(confusion_matrix(y_pred, y))\n",
    "    print()\n",
    "          "
   ]
  },
  {
   "cell_type": "code",
   "execution_count": null,
   "id": "7d38a61e",
   "metadata": {},
   "outputs": [],
   "source": [
    "printMetrics(y_pred, y_test)"
   ]
  },
  {
   "cell_type": "code",
   "execution_count": null,
   "id": "a9c526be",
   "metadata": {},
   "outputs": [],
   "source": [
    "m_DT = DecisionTreeClassifier()\n",
    "\n",
    "m_DT.fit(X_train_scaled, y_train)"
   ]
  },
  {
   "cell_type": "code",
   "execution_count": null,
   "id": "7be7b86d",
   "metadata": {},
   "outputs": [],
   "source": [
    "y_pred_dt = m_DT.predict(X_test_scaled)"
   ]
  },
  {
   "cell_type": "code",
   "execution_count": null,
   "id": "11bfb285",
   "metadata": {},
   "outputs": [],
   "source": [
    "printMetrics(y_pred_dt, y_test)"
   ]
  },
  {
   "cell_type": "code",
   "execution_count": null,
   "id": "d1dc5785",
   "metadata": {},
   "outputs": [],
   "source": [
    "param_grid = {\n",
    "    'max_depth': [10, 20, 30, None],\n",
    "    'min_samples_split': [2, 5, 10],\n",
    "    'min_samples_leaf': [1, 2, 4, 30]\n",
    "}\n",
    "\n",
    "dtree_class = DecisionTreeClassifier(random_state=42) \n",
    "\n",
    "grid_search = GridSearchCV(estimator=dtree_class, param_grid=param_grid, \n",
    "                           cv=5, n_jobs=-1, verbose=1, scoring='recall')\n",
    "\n",
    "%time\n",
    "grid_search.fit(X_train, y_train)\n",
    "\n",
    "\n",
    "best_dtree_reg = grid_search.best_estimator_  #DecisionTreeClassifier(**grid_search.best_params_)\n"
   ]
  },
  {
   "cell_type": "code",
   "execution_count": null,
   "id": "a2cf6522",
   "metadata": {},
   "outputs": [],
   "source": [
    "m_DR2 = best_dtree_reg.fit(X_train_scaled, y_train)"
   ]
  },
  {
   "cell_type": "code",
   "execution_count": null,
   "id": "04eba7d5",
   "metadata": {},
   "outputs": [],
   "source": [
    "y_pred_DT2 = m_DR2.predict(X_test_scaled)\n",
    "\n",
    "printMetrics(y_pred_DT2, y_test)"
   ]
  },
  {
   "cell_type": "code",
   "execution_count": null,
   "id": "44b80180",
   "metadata": {},
   "outputs": [],
   "source": [
    "m_RF = RandomForestClassifier()\n",
    "m_RF.fit(X_train_scaled, y_train)"
   ]
  },
  {
   "cell_type": "code",
   "execution_count": null,
   "id": "db91bd9e",
   "metadata": {},
   "outputs": [],
   "source": [
    "y_pred_RF = m_RF.predict(X_test_scaled)"
   ]
  },
  {
   "cell_type": "code",
   "execution_count": null,
   "id": "6f9d0b8a",
   "metadata": {},
   "outputs": [],
   "source": [
    "printMetrics(y_pred_RF, y_test)"
   ]
  },
  {
   "cell_type": "code",
   "execution_count": null,
   "id": "cbc145e4",
   "metadata": {},
   "outputs": [],
   "source": [
    "printMetrics(m_RF.predict(X_train_scaled), y_train)"
   ]
  },
  {
   "cell_type": "code",
   "execution_count": null,
   "id": "123327cc",
   "metadata": {},
   "outputs": [],
   "source": [
    "model = RandomForestClassifier(random_state=42)\n",
    "model.fit(X_train_scaled, y_train)"
   ]
  },
  {
   "cell_type": "code",
   "execution_count": null,
   "id": "4ba19acd",
   "metadata": {},
   "outputs": [],
   "source": [
    "y_pred = model.predict(X_test_scaled)\n",
    "print(classification_report(y_test, y_pred))\n"
   ]
  },
  {
   "cell_type": "code",
   "execution_count": null,
   "id": "3a3d8e52",
   "metadata": {},
   "outputs": [],
   "source": [
    "feature_names = list(df.columns)\n",
    "\n",
    "fig, axes = plt.subplots(nrows=1, ncols=1, figsize=(40, 40), dpi=300)\n",
    "plot_tree(m_DT, feature_names=feature_names, filled=True, ax=axes)\n",
    "\n",
    "plt.show()"
   ]
  },
  {
   "cell_type": "code",
   "execution_count": null,
   "id": "cfd550c7",
   "metadata": {},
   "outputs": [],
   "source": []
  },
  {
   "cell_type": "code",
   "execution_count": null,
   "id": "6b53b309",
   "metadata": {},
   "outputs": [],
   "source": []
  },
  {
   "cell_type": "code",
   "execution_count": null,
   "id": "1d88e7c1",
   "metadata": {},
   "outputs": [],
   "source": []
  },
  {
   "cell_type": "code",
   "execution_count": null,
   "id": "bee156c0",
   "metadata": {},
   "outputs": [],
   "source": []
  },
  {
   "cell_type": "code",
   "execution_count": null,
   "id": "b83115a2",
   "metadata": {},
   "outputs": [],
   "source": []
  }
 ],
 "metadata": {
  "kernelspec": {
   "display_name": "Python 3 (ipykernel)",
   "language": "python",
   "name": "python3"
  },
  "language_info": {
   "codemirror_mode": {
    "name": "ipython",
    "version": 3
   },
   "file_extension": ".py",
   "mimetype": "text/x-python",
   "name": "python",
   "nbconvert_exporter": "python",
   "pygments_lexer": "ipython3",
   "version": "3.11.7"
  }
 },
 "nbformat": 4,
 "nbformat_minor": 5
}
